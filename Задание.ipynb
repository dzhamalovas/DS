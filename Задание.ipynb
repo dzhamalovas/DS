{
  "nbformat": 4,
  "nbformat_minor": 0,
  "metadata": {
    "colab": {
      "provenance": []
    },
    "kernelspec": {
      "name": "python3",
      "display_name": "Python 3"
    },
    "language_info": {
      "name": "python"
    }
  },
  "cells": [
    {
      "cell_type": "markdown",
      "source": [
        "# Задача: найти оптимальные настройки для минимизации использования полосы пропускания при сохранении приемлемого времени конвергенции"
      ],
      "metadata": {
        "id": "cnBhBqISIz7k"
      }
    },
    {
      "cell_type": "code",
      "source": [
        "import random\n",
        "import time\n",
        "\n",
        "class Node:\n",
        "    def __init__(self, node_id):\n",
        "        self.id = node_id\n",
        "        self.knows_failure = False\n",
        "\n",
        "class BaseSimulator:\n",
        "    def __init__(self, num_nodes, interval, node_failures):\n",
        "        self.nodes = [Node(i) for i in range(num_nodes)]\n",
        "        self.interval = interval\n",
        "        self.node_failures = node_failures\n",
        "        self.failed_nodes = set()\n",
        "        self.bandwidth_usage = 0\n",
        "\n",
        "    def simulate_failure(self):\n",
        "        num_failures = int(len(self.nodes) * self.node_failures / 100)\n",
        "        self.failed_nodes = set(random.sample(range(len(self.nodes)), num_failures))\n",
        "        if self.failed_nodes:\n",
        "            self.nodes[random.choice(list(self.failed_nodes))].knows_failure = True\n",
        "        elif self.nodes:\n",
        "            self.nodes[0].knows_failure = True\n",
        "\n",
        "    def run_simulation(self, max_time=5):\n",
        "        self.simulate_failure()\n",
        "        start_time = time.time()\n",
        "        first_knowledge_time = None\n",
        "        all_knowledge_time = None\n",
        "\n",
        "        while True:\n",
        "            self.detect_failures()\n",
        "            current_time = time.time() - start_time\n",
        "\n",
        "            if first_knowledge_time is None and any(node.knows_failure for node in self.nodes if node.id not in self.failed_nodes):\n",
        "                first_knowledge_time = current_time\n",
        "\n",
        "            if all(node.knows_failure for node in self.nodes if node.id not in self.failed_nodes):\n",
        "                all_knowledge_time = current_time\n",
        "                break\n",
        "\n",
        "            if current_time > max_time:  # Ограничение времени симуляции\n",
        "                break\n",
        "\n",
        "            time.sleep(self.interval)\n",
        "\n",
        "        return first_knowledge_time or max_time, all_knowledge_time or max_time, self.bandwidth_usage\n",
        "\n",
        "class SerfSimulator(BaseSimulator):\n",
        "    def __init__(self, num_nodes, gossip_interval, gossip_fanout, packet_loss, node_failures):\n",
        "        super().__init__(num_nodes, gossip_interval, node_failures)\n",
        "        self.gossip_fanout = gossip_fanout\n",
        "        self.packet_loss = packet_loss\n",
        "\n",
        "    def detect_failures(self):\n",
        "        for node in self.nodes:\n",
        "            if node.id not in self.failed_nodes and node.knows_failure:\n",
        "                active_nodes = [n for n in range(len(self.nodes)) if n != node.id and n not in self.failed_nodes]\n",
        "                if not active_nodes:\n",
        "                    continue\n",
        "                targets = random.sample(active_nodes, min(self.gossip_fanout, len(active_nodes)))\n",
        "                for target in targets:\n",
        "                    if random.random() > self.packet_loss / 100:\n",
        "                        self.nodes[target].knows_failure = True\n",
        "                        self.bandwidth_usage += 1\n",
        "\n",
        "def find_optimal_settings(num_nodes, time_threshold, fast_mode=True):\n",
        "    # Узкие диапазоны для быстрого выполнения\n",
        "    intervals = [0.5, 1.0] if fast_mode else [0.2, 0.5, 1.0]\n",
        "    fanouts = [2, 3] if fast_mode else [2, 3, 5]\n",
        "    packet_losses = [0, 5] if fast_mode else [0, 5, 10, 25]\n",
        "    node_failures_set = [5] if fast_mode else [0, 5, 10]\n",
        "\n",
        "    optimal_settings = []\n",
        "\n",
        "    for gossip_interval in intervals:\n",
        "        for gossip_fanout in fanouts:\n",
        "            for packet_loss in packet_losses:\n",
        "                for node_failures in node_failures_set:\n",
        "                    simulator = SerfSimulator(num_nodes, gossip_interval, gossip_fanout, packet_loss, node_failures)\n",
        "                    result = simulator.run_simulation(max_time=time_threshold)\n",
        "\n",
        "                    first_knowledge_time, all_knowledge_time, bandwidth_usage = result\n",
        "\n",
        "                    if all_knowledge_time <= time_threshold:  # Проверка на соответствие времени\n",
        "                        optimal_settings.append((gossip_interval, gossip_fanout, packet_loss, node_failures, bandwidth_usage))\n",
        "\n",
        "    # Сортировка по использованию полосы пропускания\n",
        "    optimal_settings.sort(key=lambda x: x[4])\n",
        "\n",
        "    return optimal_settings\n",
        "\n",
        "# Запуск поиска оптимальных настроек\n",
        "num_nodes = 50  # Число узлов\n",
        "time_threshold = 5  # Максимальное допустимое время конвергенции\n",
        "fast_mode = True  # Быстрый режим, если нужен ускоренный расчет\n",
        "\n",
        "optimal_results = find_optimal_settings(num_nodes, time_threshold, fast_mode)\n",
        "\n",
        "# Вывод результатов\n",
        "print(\"Оптимальные настройки для минимизации использования полосы пропускания:\")\n",
        "for settings in optimal_results:\n",
        "    print(f\"Gossip Interval: {settings[0]}, Gossip Fanout: {settings[1]}, Packet Loss: {settings[2]}%, Node Failures: {settings[3]}%, Bandwidth Usage: {settings[4]}\")\n"
      ],
      "metadata": {
        "colab": {
          "base_uri": "https://localhost:8080/"
        },
        "id": "T9a-X2v5H29e",
        "outputId": "4239c686-6576-4b60-ed55-4e9c68eaaa46"
      },
      "execution_count": 2,
      "outputs": [
        {
          "output_type": "stream",
          "name": "stdout",
          "text": [
            "Оптимальные настройки для минимизации использования полосы пропускания:\n",
            "Gossip Interval: 0.5, Gossip Fanout: 2, Packet Loss: 0%, Node Failures: 5%, Bandwidth Usage: 0\n",
            "Gossip Interval: 0.5, Gossip Fanout: 2, Packet Loss: 5%, Node Failures: 5%, Bandwidth Usage: 0\n",
            "Gossip Interval: 0.5, Gossip Fanout: 3, Packet Loss: 0%, Node Failures: 5%, Bandwidth Usage: 0\n",
            "Gossip Interval: 0.5, Gossip Fanout: 3, Packet Loss: 5%, Node Failures: 5%, Bandwidth Usage: 0\n",
            "Gossip Interval: 1.0, Gossip Fanout: 2, Packet Loss: 0%, Node Failures: 5%, Bandwidth Usage: 0\n",
            "Gossip Interval: 1.0, Gossip Fanout: 2, Packet Loss: 5%, Node Failures: 5%, Bandwidth Usage: 0\n",
            "Gossip Interval: 1.0, Gossip Fanout: 3, Packet Loss: 0%, Node Failures: 5%, Bandwidth Usage: 0\n",
            "Gossip Interval: 1.0, Gossip Fanout: 3, Packet Loss: 5%, Node Failures: 5%, Bandwidth Usage: 0\n"
          ]
        }
      ]
    }
  ]
}